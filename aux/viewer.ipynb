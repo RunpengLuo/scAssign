{
 "cells": [
  {
   "cell_type": "code",
   "execution_count": 1,
   "metadata": {},
   "outputs": [],
   "source": [
    "import os\n",
    "import sys\n",
    "import subprocess\n",
    "import numpy as np\n",
    "import pandas as pd\n",
    "import pyranges as pr\n",
    "from io import StringIO\n"
   ]
  },
  {
   "cell_type": "code",
   "execution_count": 2,
   "metadata": {},
   "outputs": [],
   "source": [
    "def read_VCF(vcf_file: str, has_phase=False):\n",
    "    if has_phase:\n",
    "        fields = \"%CHROM\\t%POS\\t[%GT\\t%PS]\\n\"\n",
    "        names = [\"CHR\", \"POS\", \"GT\", \"PS\"]\n",
    "    else:\n",
    "        fields = \"%CHROM\\t%POS\\n\"\n",
    "        names = [\"CHR\", \"POS\"]\n",
    "    cmd = [\"bcftools\", \"query\", \"-f\", fields, vcf_file]\n",
    "    result = subprocess.run(cmd, capture_output=True, text=True, check=True)\n",
    "    snps = pd.read_csv(StringIO(result.stdout), sep=\"\\t\", header=None, names=names)\n",
    "    if has_phase:\n",
    "        # Drop entries without phasing output\n",
    "        snps = snps[(snps[\"GT\"] != \".\") & (snps[\"PS\"] != \".\")]\n",
    "        snps[\"GT\"] = snps[\"GT\"].apply(func=lambda v: v[0])  # USEREF\n",
    "    assert not snps.duplicated().any(), f\"{vcf_file} has duplicated rows\"\n",
    "    assert not snps.duplicated(subset=[\"CHR\", \"POS\"]).any(), (\n",
    "        f\"{vcf_file} has duplicated rows\"\n",
    "    )\n",
    "    return snps\n",
    "\n",
    "# Convert to PyRanges\n",
    "def to_pyranges(df, chrom_col=\"CHR\", start_col=\"POS\", name_col=None):\n",
    "    pr_df = df[[chrom_col, start_col]].copy()\n",
    "    pr_df.columns = [\"Chromosome\", \"Start\"]\n",
    "    pr_df[\"End\"] = pr_df[\"Start\"] + 1\n",
    "    if name_col:\n",
    "        pr_df[name_col] = df[name_col].values\n",
    "    return pr.PyRanges(pr_df)\n",
    "\n",
    "def feature_to_pyranges(feature_df):\n",
    "    pr_df = feature_df[[\"#CHR\", \"START\", \"END\", \"feature_id\"]].copy()\n",
    "    pr_df.columns = [\"Chromosome\", \"Start\", \"End\", \"feature_id\"]\n",
    "    return pr.PyRanges(pr_df)\n"
   ]
  },
  {
   "cell_type": "code",
   "execution_count": 3,
   "metadata": {},
   "outputs": [],
   "source": [
    "prep_dir=\"../datasets/HT934/trial1/preprocess/\"\n",
    "atac_dir=\"../datasets/HT934/07052025/ATAC01/\"\n",
    "gex_dir=\"../datasets/HT934/07052025/GEX01/\"\n",
    "\n",
    "feature_file = os.path.join(prep_dir, \"features.tsv.gz\")\n",
    "atac_vcf = os.path.join(atac_dir, \"cellSNP.base.vcf.gz\")\n",
    "atac_tmat = os.path.join(atac_dir, \"cellSNP.tag.DP.mtx\")\n",
    "# atac_mtx: csr_matrix = mmread(atac_tmat).tocsr()\n",
    "\n",
    "gex_vcf = os.path.join(gex_dir, \"cellSNP.base.vcf.gz\")\n",
    "gex_tmat = os.path.join(gex_dir, \"cellSNP.tag.DP.mtx\")\n",
    "# gex_mtx: csr_matrix = mmread(gex_tmat).tocsr()\n"
   ]
  },
  {
   "cell_type": "code",
   "execution_count": 10,
   "metadata": {},
   "outputs": [
    {
     "name": "stdout",
     "output_type": "stream",
     "text": [
      "   #CHR   START     END    feature_id     feature_type  segID\n",
      "0  chr1   13581  138480  LOC127239154  Gene Expression      0\n",
      "1  chr1   23709   23710  LOC124905685  Gene Expression      0\n",
      "2  chr1   54611   54612  LOC101928626  Gene Expression      0\n",
      "3  chr1  112876  112877        OR4F16  Gene Expression      0\n",
      "4  chr1  205170  205171  LOC100288069  Gene Expression      0\n",
      "Mapped GEX SNPs: 52299\n",
      "total GEX SNPs: 304851\n",
      "Mapped ATAC SNPs: 76551\n",
      "total ATAC SNPs: 1868231\n"
     ]
    }
   ],
   "source": [
    "features = pd.read_csv(feature_file, sep=\"\\t\")\n",
    "features = features[[\"#CHR\", \"START\", \"END\", \"feature_id\", \"feature_type\", \"segID\"]]\n",
    "print(features[:5])\n",
    "genes = features.loc[features[\"feature_type\"] == \"Gene Expression\"].copy()\n",
    "peaks = features.loc[features[\"feature_type\"] == \"Peaks\"].copy()\n",
    "\n",
    "atac_snps = read_VCF(atac_vcf)\n",
    "atac_snps[\"POS\"] -= 1\n",
    "gex_snps = read_VCF(gex_vcf)\n",
    "gex_snps[\"POS\"] -= 1\n",
    "\n",
    "gex_snp_ranges = to_pyranges(gex_snps)\n",
    "atac_snp_ranges = to_pyranges(atac_snps)\n",
    "gene_ranges = feature_to_pyranges(genes)\n",
    "peak_ranges = feature_to_pyranges(peaks)\n",
    "\n",
    "# Join to find overlaps\n",
    "gene_overlap = gex_snp_ranges.join(gene_ranges)\n",
    "peak_overlap = atac_snp_ranges.join(peak_ranges)\n",
    "\n",
    "# You can merge results back to original SNPs if needed:\n",
    "gex_snps[\"feature_id\"] = pd.NA\n",
    "atac_snps[\"feature_id\"] = pd.NA\n",
    "\n",
    "if not gene_overlap.df.empty:\n",
    "    gex_snps.loc[gene_overlap.df.index, \"feature_id\"] = gene_overlap.df[\"feature_id\"].values\n",
    "\n",
    "if not peak_overlap.df.empty:\n",
    "    atac_snps.loc[peak_overlap.df.index, \"feature_id\"] = peak_overlap.df[\"feature_id\"].values\n",
    "\n",
    "print(\"Mapped GEX SNPs:\", gex_snps[\"feature_id\"].notna().sum())\n",
    "print(f\"total GEX SNPs: {len(gex_snps)}\")\n",
    "print(\"Mapped ATAC SNPs:\", atac_snps[\"feature_id\"].notna().sum())\n",
    "print(f\"total ATAC SNPs: {len(atac_snps)}\")\n",
    "\n"
   ]
  },
  {
   "cell_type": "code",
   "execution_count": null,
   "metadata": {},
   "outputs": [],
   "source": []
  }
 ],
 "metadata": {
  "kernelspec": {
   "display_name": "bio-env",
   "language": "python",
   "name": "python3"
  },
  "language_info": {
   "codemirror_mode": {
    "name": "ipython",
    "version": 3
   },
   "file_extension": ".py",
   "mimetype": "text/x-python",
   "name": "python",
   "nbconvert_exporter": "python",
   "pygments_lexer": "ipython3",
   "version": "3.8.17"
  }
 },
 "nbformat": 4,
 "nbformat_minor": 2
}
